{
 "cells": [
  {
   "cell_type": "markdown",
   "metadata": {},
   "source": [
    "# Q-learning "
   ]
  },
  {
   "cell_type": "markdown",
   "metadata": {},
   "source": [
    "### Group Members: Bhavesh Ajwani (20102409), Kondury Rishabh (201020425)"
   ]
  },
  {
   "cell_type": "markdown",
   "metadata": {},
   "source": [
    "# The Environment\n",
    "\n",
    "### The first task is defining the system \n",
    "#### * States : The state of the system is the row and column number of the grid, terminal states are the walls in the grid\n",
    "#### * Actions : The defined actions are up, down, left, right \n",
    "#### * Rewards : For the movable sides, the reward is -1, -100 for walls and +100 for ending position."
   ]
  },
  {
   "cell_type": "markdown",
   "metadata": {},
   "source": [
    "### Goal : The goal is to find the shortest path from the start to the end poisiton in the grid."
   ]
  },
  {
   "cell_type": "code",
   "execution_count": 1,
   "metadata": {
    "execution": {
     "iopub.execute_input": "2022-06-13T05:48:53.721842Z",
     "iopub.status.busy": "2022-06-13T05:48:53.721429Z",
     "iopub.status.idle": "2022-06-13T05:48:53.726781Z",
     "shell.execute_reply": "2022-06-13T05:48:53.725924Z",
     "shell.execute_reply.started": "2022-06-13T05:48:53.721811Z"
    },
    "id": "wLa0D4rwPVY5"
   },
   "outputs": [],
   "source": [
    "#importing required libraries\n",
    "import numpy as np\n",
    "import pandas as pd\n",
    "import random"
   ]
  },
  {
   "cell_type": "code",
   "execution_count": 2,
   "metadata": {
    "execution": {
     "iopub.execute_input": "2022-06-13T05:48:53.733139Z",
     "iopub.status.busy": "2022-06-13T05:48:53.732429Z",
     "iopub.status.idle": "2022-06-13T05:48:58.938804Z",
     "shell.execute_reply": "2022-06-13T05:48:58.938081Z",
     "shell.execute_reply.started": "2022-06-13T05:48:53.733093Z"
    },
    "id": "nGmJ6jW0Pg4f",
    "outputId": "11c41264-0ed8-4396-e186-ec77abb441b4"
   },
   "outputs": [
    {
     "name": "stdout",
     "output_type": "stream",
     "text": [
      "Enter the size of the grid: 6\n",
      "Enter the coordinates of starting position: 2 3\n"
     ]
    }
   ],
   "source": [
    "#taking user input for the size of the grid:\n",
    "n = int(input(\"Enter the size of the grid: \"))\n",
    "rows = columns = n;\n",
    "\n",
    "#taking input for starting coordinates \n",
    "sr, sc = input(\"Enter the coordinates of starting position: \").split()\n",
    "sr = int(sr)\n",
    "sc = int(sc)"
   ]
  },
  {
   "cell_type": "code",
   "execution_count": 3,
   "metadata": {
    "execution": {
     "iopub.execute_input": "2022-06-13T05:58:59.705041Z",
     "iopub.status.busy": "2022-06-13T05:58:59.704529Z",
     "iopub.status.idle": "2022-06-13T05:58:59.715633Z",
     "shell.execute_reply": "2022-06-13T05:58:59.714087Z",
     "shell.execute_reply.started": "2022-06-13T05:58:59.705004Z"
    }
   },
   "outputs": [
    {
     "data": {
      "text/plain": [
       "array([[[0., 0., 0., 0.],\n",
       "        [0., 0., 0., 0.],\n",
       "        [0., 0., 0., 0.],\n",
       "        [0., 0., 0., 0.],\n",
       "        [0., 0., 0., 0.],\n",
       "        [0., 0., 0., 0.]],\n",
       "\n",
       "       [[0., 0., 0., 0.],\n",
       "        [0., 0., 0., 0.],\n",
       "        [0., 0., 0., 0.],\n",
       "        [0., 0., 0., 0.],\n",
       "        [0., 0., 0., 0.],\n",
       "        [0., 0., 0., 0.]],\n",
       "\n",
       "       [[0., 0., 0., 0.],\n",
       "        [0., 0., 0., 0.],\n",
       "        [0., 0., 0., 0.],\n",
       "        [0., 0., 0., 0.],\n",
       "        [0., 0., 0., 0.],\n",
       "        [0., 0., 0., 0.]],\n",
       "\n",
       "       [[0., 0., 0., 0.],\n",
       "        [0., 0., 0., 0.],\n",
       "        [0., 0., 0., 0.],\n",
       "        [0., 0., 0., 0.],\n",
       "        [0., 0., 0., 0.],\n",
       "        [0., 0., 0., 0.]],\n",
       "\n",
       "       [[0., 0., 0., 0.],\n",
       "        [0., 0., 0., 0.],\n",
       "        [0., 0., 0., 0.],\n",
       "        [0., 0., 0., 0.],\n",
       "        [0., 0., 0., 0.],\n",
       "        [0., 0., 0., 0.]],\n",
       "\n",
       "       [[0., 0., 0., 0.],\n",
       "        [0., 0., 0., 0.],\n",
       "        [0., 0., 0., 0.],\n",
       "        [0., 0., 0., 0.],\n",
       "        [0., 0., 0., 0.],\n",
       "        [0., 0., 0., 0.]]])"
      ]
     },
     "execution_count": 3,
     "metadata": {},
     "output_type": "execute_result"
    }
   ],
   "source": [
    "#making q-table for the matrix by initialising with zeroes\n",
    "q_table = np.zeros((rows, columns, 4))\n",
    "q_table"
   ]
  },
  {
   "cell_type": "code",
   "execution_count": 4,
   "metadata": {
    "execution": {
     "iopub.execute_input": "2022-06-13T05:48:58.953896Z",
     "iopub.status.busy": "2022-06-13T05:48:58.953355Z",
     "iopub.status.idle": "2022-06-13T05:48:58.968120Z",
     "shell.execute_reply": "2022-06-13T05:48:58.967327Z",
     "shell.execute_reply.started": "2022-06-13T05:48:58.953864Z"
    },
    "id": "aE3TjbjEP5wI"
   },
   "outputs": [],
   "source": [
    "#defining actions \n",
    "actions = ['left', 'right', 'down', 'up']"
   ]
  },
  {
   "cell_type": "markdown",
   "metadata": {},
   "source": [
    "### The building of reward matrix is done by selecting the obstacles in a randomized order. The 10% of total cells are coloured black and others are reachable."
   ]
  },
  {
   "cell_type": "code",
   "execution_count": 5,
   "metadata": {
    "execution": {
     "iopub.execute_input": "2022-06-13T05:48:58.970388Z",
     "iopub.status.busy": "2022-06-13T05:48:58.969896Z",
     "iopub.status.idle": "2022-06-13T05:48:58.980726Z",
     "shell.execute_reply": "2022-06-13T05:48:58.979827Z",
     "shell.execute_reply.started": "2022-06-13T05:48:58.970356Z"
    },
    "id": "99qbs594QHem",
    "outputId": "8b41be06-01c5-46fd-87d6-70e95b22bc9b"
   },
   "outputs": [],
   "source": [
    "#builiding the required grid: \n",
    "rewards = np.full((n, n), -100.0)\n",
    "\n",
    "#filling the 90% part of the grid with -1\n",
    "ninety_percent = (int)(n*n*0.90)\n",
    "\n",
    "lst = random.sample(range(0, n*n), ninety_percent)\n",
    "\n",
    "movable_cells = []\n",
    "for i in lst:\n",
    "    movable_cells.append([i//n, i%n])\n",
    "\n",
    "for i in movable_cells:\n",
    "    rewards[i[0]][i[1]] = -1.0\n",
    "\n",
    "#for ending position:\n",
    "rewards[sr, sc] = 100.0"
   ]
  },
  {
   "cell_type": "markdown",
   "metadata": {},
   "source": [
    "### Reward matrix: "
   ]
  },
  {
   "cell_type": "code",
   "execution_count": 6,
   "metadata": {
    "execution": {
     "iopub.execute_input": "2022-06-13T05:48:58.982421Z",
     "iopub.status.busy": "2022-06-13T05:48:58.981906Z",
     "iopub.status.idle": "2022-06-13T05:48:59.006159Z",
     "shell.execute_reply": "2022-06-13T05:48:59.005124Z",
     "shell.execute_reply.started": "2022-06-13T05:48:58.982384Z"
    }
   },
   "outputs": [
    {
     "data": {
      "text/html": [
       "<div>\n",
       "<style scoped>\n",
       "    .dataframe tbody tr th:only-of-type {\n",
       "        vertical-align: middle;\n",
       "    }\n",
       "\n",
       "    .dataframe tbody tr th {\n",
       "        vertical-align: top;\n",
       "    }\n",
       "\n",
       "    .dataframe thead th {\n",
       "        text-align: right;\n",
       "    }\n",
       "</style>\n",
       "<table border=\"1\" class=\"dataframe\">\n",
       "  <thead>\n",
       "    <tr style=\"text-align: right;\">\n",
       "      <th></th>\n",
       "      <th>0</th>\n",
       "      <th>1</th>\n",
       "      <th>2</th>\n",
       "      <th>3</th>\n",
       "      <th>4</th>\n",
       "      <th>5</th>\n",
       "    </tr>\n",
       "  </thead>\n",
       "  <tbody>\n",
       "    <tr>\n",
       "      <th>0</th>\n",
       "      <td>-1.0</td>\n",
       "      <td>-1.0</td>\n",
       "      <td>-1.0</td>\n",
       "      <td>-1.0</td>\n",
       "      <td>-1.0</td>\n",
       "      <td>-1.0</td>\n",
       "    </tr>\n",
       "    <tr>\n",
       "      <th>1</th>\n",
       "      <td>-100.0</td>\n",
       "      <td>-1.0</td>\n",
       "      <td>-1.0</td>\n",
       "      <td>-1.0</td>\n",
       "      <td>-1.0</td>\n",
       "      <td>-1.0</td>\n",
       "    </tr>\n",
       "    <tr>\n",
       "      <th>2</th>\n",
       "      <td>-1.0</td>\n",
       "      <td>-1.0</td>\n",
       "      <td>-1.0</td>\n",
       "      <td>100.0</td>\n",
       "      <td>-1.0</td>\n",
       "      <td>-1.0</td>\n",
       "    </tr>\n",
       "    <tr>\n",
       "      <th>3</th>\n",
       "      <td>-100.0</td>\n",
       "      <td>-1.0</td>\n",
       "      <td>-100.0</td>\n",
       "      <td>-1.0</td>\n",
       "      <td>-1.0</td>\n",
       "      <td>-1.0</td>\n",
       "    </tr>\n",
       "    <tr>\n",
       "      <th>4</th>\n",
       "      <td>-1.0</td>\n",
       "      <td>-1.0</td>\n",
       "      <td>-1.0</td>\n",
       "      <td>-1.0</td>\n",
       "      <td>-100.0</td>\n",
       "      <td>-1.0</td>\n",
       "    </tr>\n",
       "    <tr>\n",
       "      <th>5</th>\n",
       "      <td>-1.0</td>\n",
       "      <td>-1.0</td>\n",
       "      <td>-1.0</td>\n",
       "      <td>-1.0</td>\n",
       "      <td>-1.0</td>\n",
       "      <td>-1.0</td>\n",
       "    </tr>\n",
       "  </tbody>\n",
       "</table>\n",
       "</div>"
      ],
      "text/plain": [
       "       0    1      2      3      4    5\n",
       "0   -1.0 -1.0   -1.0   -1.0   -1.0 -1.0\n",
       "1 -100.0 -1.0   -1.0   -1.0   -1.0 -1.0\n",
       "2   -1.0 -1.0   -1.0  100.0   -1.0 -1.0\n",
       "3 -100.0 -1.0 -100.0   -1.0   -1.0 -1.0\n",
       "4   -1.0 -1.0   -1.0   -1.0 -100.0 -1.0\n",
       "5   -1.0 -1.0   -1.0   -1.0   -1.0 -1.0"
      ]
     },
     "metadata": {},
     "output_type": "display_data"
    }
   ],
   "source": [
    "re_table = pd.DataFrame(rewards)\n",
    "display(re_table)"
   ]
  },
  {
   "cell_type": "code",
   "execution_count": 7,
   "metadata": {
    "execution": {
     "iopub.execute_input": "2022-06-13T05:48:59.008186Z",
     "iopub.status.busy": "2022-06-13T05:48:59.007685Z",
     "iopub.status.idle": "2022-06-13T05:48:59.024752Z",
     "shell.execute_reply": "2022-06-13T05:48:59.023777Z",
     "shell.execute_reply.started": "2022-06-13T05:48:59.008140Z"
    },
    "id": "NFhfSVuQQV_y"
   },
   "outputs": [],
   "source": [
    "#this function checks if the current state is a terminal state or not\n",
    "def is_terminal_state(current_r, current_c):\n",
    "    if rewards[current_r, current_c] == -1.0:\n",
    "        return False\n",
    "    else:\n",
    "        return True\n",
    "\n",
    "#while the next state is terminal state, the random values are checked and non-terminal states are found.\n",
    "def get_start():\n",
    "    current_r = np.random.randint(rows)\n",
    "    current_c = np.random.randint(columns)\n",
    "\n",
    "\n",
    "    while is_terminal_state(current_r, current_c):\n",
    "        current_r = np.random.randint(rows)\n",
    "        current_c = np.random.randint(columns)\n",
    "\n",
    "    return current_r, current_c\n",
    "\n",
    "#The next action from the current state is defined \n",
    "def get_next_action(current_r, current_c, ep):\n",
    "    if np.random.random() < ep:\n",
    "        return np.argmax(q_table[current_r, current_c])\n",
    "    else:\n",
    "        return np.random.randint(4)\n",
    "\n",
    "#Based on the action, the next state is being selected in the greedy-epsilon method\n",
    "def get_next_location(current_r, current_c, action_idx):\n",
    "    next_r = current_r\n",
    "    next_c = current_c\n",
    "\n",
    "    if actions[action_idx] == 'up' and current_r > 0:\n",
    "        next_r -= 1\n",
    "    elif actions[action_idx] == 'right' and current_c < columns-1:\n",
    "        next_c += 1\n",
    "    elif actions[action_idx] == 'down' and current_r < rows-1:\n",
    "        next_r += 1\n",
    "    elif actions[action_idx] == 'left' and current_c > 0:\n",
    "        next_c -= 1\n",
    "    \n",
    "    return next_r, next_c\n",
    "\n",
    "#The shortest path is found from the state : (r, c)\n",
    "def get_shortest_path(r, c):\n",
    "    if is_terminal_state(r, c):\n",
    "        return []\n",
    "    else:\n",
    "        current_r, current_c = r, c\n",
    "        shortest_path = []\n",
    "        shortest_path.append([current_r, current_c])\n",
    "\n",
    "        while not is_terminal_state(current_r, current_c):\n",
    "            action_idx = get_next_action(current_r, current_c, 1.0)\n",
    "\n",
    "            current_r, current_c = get_next_location(current_r, current_c, action_idx) \n",
    "\n",
    "            shortest_path.append([current_r, current_c])\n",
    "\n",
    "        return shortest_path"
   ]
  },
  {
   "cell_type": "markdown",
   "metadata": {},
   "source": [
    "## The training of the model is done by selecting the hyperparameters: "
   ]
  },
  {
   "cell_type": "code",
   "execution_count": 9,
   "metadata": {
    "execution": {
     "iopub.execute_input": "2022-06-13T05:48:59.026622Z",
     "iopub.status.busy": "2022-06-13T05:48:59.026219Z",
     "iopub.status.idle": "2022-06-13T05:48:59.096847Z",
     "shell.execute_reply": "2022-06-13T05:48:59.095926Z",
     "shell.execute_reply.started": "2022-06-13T05:48:59.026586Z"
    },
    "id": "GA6j0qBsXcqA",
    "outputId": "6c920c9f-a2af-4633-95e9-a980231494aa"
   },
   "outputs": [
    {
     "name": "stdout",
     "output_type": "stream",
     "text": [
      "Finished\n"
     ]
    }
   ],
   "source": [
    "ep = 0.9 #expliotation and exploration ratio \n",
    "alpha = 0.9 #learning rate\n",
    "gamma = 0.9 #discount factor\n",
    "episodes = 500 #the number of episodes \n",
    "\n",
    "\n",
    "for it in range(episodes):\n",
    "    row, col = get_start()\n",
    "\n",
    "\n",
    "    while not is_terminal_state(row, col):\n",
    "        action_idx = get_next_action(row, col, ep)\n",
    "\n",
    "        old_r, old_c = row, col\n",
    "        row, col = get_next_location(row, col, action_idx)\n",
    "\n",
    "        reward = rewards[row, col]\n",
    "        old_q_value = q_table[old_r, old_c, action_idx]\n",
    "        temp_diff = reward + (gamma * np.max(q_table[row, col])) - old_q_value\n",
    "\n",
    "        new_q_value = old_q_value + (alpha * temp_diff)\n",
    "        q_table[old_r, old_c, action_idx] = new_q_value\n",
    "\n",
    "\n",
    "print(\"Finished\")"
   ]
  },
  {
   "cell_type": "code",
   "execution_count": 10,
   "metadata": {
    "execution": {
     "iopub.execute_input": "2022-06-13T05:49:26.831020Z",
     "iopub.status.busy": "2022-06-13T05:49:26.830611Z",
     "iopub.status.idle": "2022-06-13T05:49:26.837376Z",
     "shell.execute_reply": "2022-06-13T05:49:26.836295Z",
     "shell.execute_reply.started": "2022-06-13T05:49:26.830988Z"
    },
    "id": "sKZFfdpDX5WN"
   },
   "outputs": [
    {
     "name": "stdout",
     "output_type": "stream",
     "text": [
      "[[4, 0], [4, 1], [3, 1], [2, 1], [2, 2], [2, 3]]\n"
     ]
    }
   ],
   "source": [
    "#Printing the shortest path from the given vertices:\n",
    "print(get_shortest_path(4, 0))"
   ]
  },
  {
   "cell_type": "markdown",
   "metadata": {},
   "source": [
    "## Q-table after training:"
   ]
  },
  {
   "cell_type": "code",
   "execution_count": 11,
   "metadata": {
    "execution": {
     "iopub.execute_input": "2022-06-13T05:48:59.104957Z",
     "iopub.status.busy": "2022-06-13T05:48:59.104454Z",
     "iopub.status.idle": "2022-06-13T05:48:59.119366Z",
     "shell.execute_reply": "2022-06-13T05:48:59.118526Z",
     "shell.execute_reply.started": "2022-06-13T05:48:59.104923Z"
    }
   },
   "outputs": [
    {
     "data": {
      "text/plain": [
       "array([[[  -3.1425039 ,   62.17099932,  -90.        ,   -3.1425039 ],\n",
       "        [  -3.0688749 ,   -2.39958   ,   70.19      ,   55.707471  ],\n",
       "        [  -1.728     ,   -1.728     ,   79.1       ,   -1.719     ],\n",
       "        [  -1.719     ,   62.92832817,   89.        ,   -0.9       ],\n",
       "        [  79.09999913,   -0.99      ,   -1.719     ,   -1.719     ],\n",
       "        [  -1.719     ,   -1.719     ,   70.19      ,   -0.9       ]],\n",
       "\n",
       "       [[   0.        ,    0.        ,    0.        ,    0.        ],\n",
       "        [ -99.        ,   78.29180906,   79.1       ,   60.89212434],\n",
       "        [  56.53293851,   89.        ,   80.01      ,   69.47256094],\n",
       "        [  71.1       ,   79.09192717,  100.        ,    0.        ],\n",
       "        [  89.        ,   63.081     ,   -0.9       ,   -0.9       ],\n",
       "        [  -0.99      ,   63.01475075,   79.1       ,    0.        ]],\n",
       "\n",
       "       [[  -1.719     ,   79.1       ,  -90.        ,  -90.        ],\n",
       "        [  70.18992233,   89.        ,   70.11891   ,   70.18999993],\n",
       "        [  71.1       ,  100.        , -100.        ,   79.09991137],\n",
       "        [   0.        ,    0.        ,    0.        ,    0.        ],\n",
       "        [ 100.        ,   78.309     ,   79.09999991,   78.309     ],\n",
       "        [  89.        ,   78.309     ,   59.768109  ,   69.9873115 ]],\n",
       "\n",
       "       [[   0.        ,    0.        ,    0.        ,    0.        ],\n",
       "        [ -99.99      ,  -99.99      ,   55.64797434,   79.1       ],\n",
       "        [   0.        ,    0.        ,    0.        ,    0.        ],\n",
       "        [ -99.9       ,   79.09199206,   71.01981   ,  100.        ],\n",
       "        [  89.        ,   69.4791    ,    0.        ,   80.1       ],\n",
       "        [  -0.9       ,   70.11891   ,   -0.99      ,   79.1       ]],\n",
       "\n",
       "       [[  49.13210401,   62.171     ,   43.2390898 ,  -90.        ],\n",
       "        [  54.89629056,   -2.6117919 ,   54.36731499,   70.19      ],\n",
       "        [  -2.531529  ,   79.1       ,   61.5245742 ,  -99.9       ],\n",
       "        [  -2.537919  ,  -99.        ,   -1.629     ,   89.        ],\n",
       "        [   0.        ,    0.        ,    0.        ,    0.        ],\n",
       "        [ -90.        ,   -0.9       ,   -0.9       ,   70.19      ]],\n",
       "\n",
       "       [[  48.3787443 ,   -3.77265955,   40.48194038,   54.9539    ],\n",
       "        [  -3.92470643,   62.171     ,   -3.67080131,   55.62567141],\n",
       "        [  -3.20360139,   -2.605986  ,   -2.538819  ,   70.19      ],\n",
       "        [  -3.0767958 ,   48.45850941,   -2.46429   ,   -1.80819   ],\n",
       "        [  -1.7919    ,   54.9539    ,   -1.719     ,  -90.        ],\n",
       "        [  43.440759  ,   54.387171  ,   28.05105222,   62.171     ]]])"
      ]
     },
     "execution_count": 11,
     "metadata": {},
     "output_type": "execute_result"
    }
   ],
   "source": [
    "q_table"
   ]
  },
  {
   "cell_type": "code",
   "execution_count": null,
   "metadata": {},
   "outputs": [],
   "source": []
  }
 ],
 "metadata": {
  "kernelspec": {
   "display_name": "Python 3 (ipykernel)",
   "language": "python",
   "name": "python3"
  },
  "language_info": {
   "codemirror_mode": {
    "name": "ipython",
    "version": 3
   },
   "file_extension": ".py",
   "mimetype": "text/x-python",
   "name": "python",
   "nbconvert_exporter": "python",
   "pygments_lexer": "ipython3",
   "version": "3.9.7"
  }
 },
 "nbformat": 4,
 "nbformat_minor": 4
}
